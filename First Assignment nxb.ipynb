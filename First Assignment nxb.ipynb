{
 "cells": [
  {
   "cell_type": "code",
   "execution_count": 2,
   "metadata": {},
   "outputs": [
    {
     "name": "stdout",
     "output_type": "stream",
     "text": [
      "twinkle,winkle, little star,\n",
      "\t how i wonder what you are!\n",
      "\t\t up above the world so high,\n",
      "\t\t\tlike a diamond in the sky twinkle,\n",
      "twinkle, little star\n",
      "how i wonder what you are,\n"
     ]
    }
   ],
   "source": [
    "string=(\"twinkle,winkle, little star,\\n\\t how i wonder what you are!\\n\\t\\t up above the world so high,\\n\\t\\t\\tlike a diamond in the sky twinkle,\\ntwinkle, little star\\nhow i wonder what you are,\")\n",
    "print(string)"
   ]
  },
  {
   "cell_type": "code",
   "execution_count": 4,
   "metadata": {},
   "outputs": [
    {
     "data": {
      "text/plain": [
       "sys.version_info(major=3, minor=7, micro=3, releaselevel='final', serial=0)"
      ]
     },
     "execution_count": 4,
     "metadata": {},
     "output_type": "execute_result"
    }
   ],
   "source": [
    "import sys\n",
    "sys.version_info"
   ]
  },
  {
   "cell_type": "code",
   "execution_count": 5,
   "metadata": {},
   "outputs": [
    {
     "name": "stdout",
     "output_type": "stream",
     "text": [
      "2019-10-02 12:53:08.068054\n"
     ]
    }
   ],
   "source": [
    "import datetime\n",
    "datetime_object=datetime.datetime.now()\n",
    "print(datetime_object)"
   ]
  },
  {
   "cell_type": "code",
   "execution_count": 6,
   "metadata": {},
   "outputs": [
    {
     "name": "stdout",
     "output_type": "stream",
     "text": [
      "enter area = 25\n",
      "1962.5\n"
     ]
    }
   ],
   "source": [
    "r=int(input(\"enter area = \"))\n",
    "pi=3.14\n",
    "area=pi*(r*r)\n",
    "print(area)"
   ]
  },
  {
   "cell_type": "code",
   "execution_count": 7,
   "metadata": {},
   "outputs": [
    {
     "name": "stdout",
     "output_type": "stream",
     "text": [
      "enter your first_nameahmad\n",
      "enter your last_namekhalid\n",
      "['khalid', 'ahmad']\n"
     ]
    }
   ],
   "source": [
    "f_name = input(\"enter your first_name\")\n",
    "l_name = input(\"enter your last_name\")\n",
    "a = list()\n",
    "a.append(f_name)\n",
    "b = list()\n",
    "b.append(l_name)\n",
    "final_list = (a + b)\n",
    "final_list.reverse()\n",
    "print(final_list)"
   ]
  },
  {
   "cell_type": "code",
   "execution_count": 8,
   "metadata": {},
   "outputs": [
    {
     "name": "stdout",
     "output_type": "stream",
     "text": [
      "enter 1st number =1\n",
      "enter 2nd number =2\n",
      "enter 3rd number =3\n",
      "[1, 2, 3]\n",
      "(1, 2, 3)\n"
     ]
    }
   ],
   "source": [
    "a=int(input(\"enter 1st number =\"))\n",
    "b=int(input(\"enter 2nd number =\"))\n",
    "c=int(input(\"enter 3rd number =\"))\n",
    "q=a,b,c\n",
    "nlist=list(q)\n",
    "print(nlist)\n",
    "ntuple=tuple(q)\n",
    "print(ntuple)"
   ]
  },
  {
   "cell_type": "code",
   "execution_count": 9,
   "metadata": {},
   "outputs": [
    {
     "name": "stdout",
     "output_type": "stream",
     "text": [
      "Your Computer Name is:pc\n",
      "Your Computer IP Address is:192.168.0.102\n"
     ]
    }
   ],
   "source": [
    "import socket    \n",
    "hostname = socket.gethostname()    \n",
    "IPAddr = socket.gethostbyname(hostname)    \n",
    "print(\"Your Computer Name is:\" + hostname)    \n",
    "print(\"Your Computer IP Address is:\" + IPAddr)"
   ]
  },
  {
   "cell_type": "code",
   "execution_count": 10,
   "metadata": {},
   "outputs": [
    {
     "name": "stdout",
     "output_type": "stream",
     "text": [
      "0\n",
      "{}\n"
     ]
    }
   ],
   "source": [
    "n = 20\n",
    "d = {\"x\":200}\n",
    "print(type(n)())\n",
    "print(type(d)())"
   ]
  },
  {
   "cell_type": "code",
   "execution_count": 11,
   "metadata": {},
   "outputs": [
    {
     "name": "stdout",
     "output_type": "stream",
     "text": [
      "\n",
      "List of directories in sys module:\n",
      "['C:\\\\Users\\\\Ahmad\\\\python-program', 'C:\\\\ProgramData\\\\Anaconda3\\\\python37.zip', 'C:\\\\ProgramData\\\\Anaconda3\\\\DLLs', 'C:\\\\ProgramData\\\\Anaconda3\\\\lib', 'C:\\\\ProgramData\\\\Anaconda3', '', 'C:\\\\ProgramData\\\\Anaconda3\\\\lib\\\\site-packages', 'C:\\\\ProgramData\\\\Anaconda3\\\\lib\\\\site-packages\\\\win32', 'C:\\\\ProgramData\\\\Anaconda3\\\\lib\\\\site-packages\\\\win32\\\\lib', 'C:\\\\ProgramData\\\\Anaconda3\\\\lib\\\\site-packages\\\\Pythonwin', 'C:\\\\ProgramData\\\\Anaconda3\\\\lib\\\\site-packages\\\\IPython\\\\extensions', 'C:\\\\Users\\\\Ahmad\\\\.ipython']\n",
      "\n",
      "List of directories in os module:\n",
      "<module 'ntpath' from 'C:\\\\ProgramData\\\\Anaconda3\\\\lib\\\\ntpath.py'>\n"
     ]
    }
   ],
   "source": [
    "import sys\n",
    "print(\"\\nList of directories in sys module:\")\n",
    "print(sys.path)\n",
    "print(\"\\nList of directories in os module:\")\n",
    "import os\n",
    "print(os.path)"
   ]
  },
  {
   "cell_type": "code",
   "execution_count": 12,
   "metadata": {},
   "outputs": [
    {
     "name": "stdout",
     "output_type": "stream",
     "text": [
      "386\n",
      "462\n",
      "418\n",
      "344\n",
      "236\n",
      "566\n",
      "978\n",
      "328\n",
      "162\n",
      "758\n",
      "918\n",
      "237\n"
     ]
    }
   ],
   "source": [
    "list = [386,462,47,418,907,344,236,375,823,566,597,978,328,615,953,345,399,162,758,219,918,237,412,566,826,248,866,950,626,\n",
    "        \n",
    "        949,687,217,815,67,104,58,512,24,892,894,767,553,81,379,843,831,445,742,717,958,743,527]\n",
    "for x in list:\n",
    "   \n",
    "    if (x % 2 ==0):\n",
    "        \n",
    "        print(x)\n",
    "    \n",
    "    if (x==237):\n",
    "        \n",
    "        print(x)\n",
    "        \n",
    "        break;"
   ]
  }
 ],
 "metadata": {
  "kernelspec": {
   "display_name": "Python 3",
   "language": "python",
   "name": "python3"
  },
  "language_info": {
   "codemirror_mode": {
    "name": "ipython",
    "version": 3
   },
   "file_extension": ".py",
   "mimetype": "text/x-python",
   "name": "python",
   "nbconvert_exporter": "python",
   "pygments_lexer": "ipython3",
   "version": "3.7.3"
  }
 },
 "nbformat": 4,
 "nbformat_minor": 2
}
