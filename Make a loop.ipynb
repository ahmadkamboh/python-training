{
 "cells": [
  {
   "cell_type": "code",
   "execution_count": 2,
   "metadata": {},
   "outputs": [
    {
     "name": "stdout",
     "output_type": "stream",
     "text": [
      "10\n",
      "10\n",
      "1\n",
      "11\n",
      "0\n"
     ]
    }
   ],
   "source": [
    "import re\n",
    "\n",
    "SPECIAL_CARDS = {\n",
    "  \"ace\": 1,\n",
    "  \"jack\": 11,\n",
    "  \"queen\": 12,\n",
    "  \"king\": 13,\n",
    "  \"joker\": 20\n",
    "}\n",
    "\n",
    "def numberC(card):\n",
    "  card = card.lower()\n",
    "  special = set(SPECIAL_CARDS) & set(card.split())\n",
    "  if special:\n",
    "    return SPECIAL_CARDS[special.pop()]\n",
    "  result = re.search(\"\\d+\", card)\n",
    "  if not result:\n",
    "    return 0\n",
    "  return int(result.group())\n",
    "\n",
    "print(numberC(\"Red Card 10\"))\n",
    "print(numberC(\"10 Red Card\"))\n",
    "print(numberC(\"Ace Red Card\"))\n",
    "print(numberC(\"Black Jack Card\"))\n",
    "print(numberC(\"I am not a card\"))"
   ]
  },
  {
   "cell_type": "code",
   "execution_count": 20,
   "metadata": {},
   "outputs": [
    {
     "data": {
      "text/plain": [
       "20"
      ]
     },
     "execution_count": 20,
     "metadata": {},
     "output_type": "execute_result"
    }
   ],
   "source": [
    "def even_loop(limit=21):\n",
    "    for i in range(limit):\n",
    "        if i%2==0:\n",
    "            yield i\n",
    "\n",
    "            \n",
    "\n",
    "loop=even_loop()            \n",
    "loop.__next__()\n",
    "loop.__next__()\n",
    "loop.__next__()\n",
    "loop.__next__()\n",
    "loop.__next__()\n",
    "loop.__next__()\n",
    "loop.__next__()\n",
    "loop.__next__()\n",
    "loop.__next__()\n",
    "loop.__next__()\n",
    "loop.__next__()\n"
   ]
  },
  {
   "cell_type": "markdown",
   "metadata": {},
   "source": [
    "#    using loop"
   ]
  },
  {
   "cell_type": "code",
   "execution_count": 23,
   "metadata": {},
   "outputs": [
    {
     "name": "stdout",
     "output_type": "stream",
     "text": [
      "0\n",
      "2\n",
      "4\n",
      "6\n",
      "8\n",
      "10\n",
      "12\n",
      "14\n",
      "16\n",
      "18\n",
      "20\n"
     ]
    }
   ],
   "source": [
    "for i in even_loop():\n",
    "    print(i)"
   ]
  },
  {
   "cell_type": "code",
   "execution_count": 37,
   "metadata": {},
   "outputs": [
    {
     "data": {
      "text/plain": [
       "19"
      ]
     },
     "execution_count": 37,
     "metadata": {},
     "output_type": "execute_result"
    }
   ],
   "source": [
    "def prime_number(limit=21):\n",
    "    for i in range(limit):\n",
    "          for j in range(2,i):\n",
    "                if i%j==0:\n",
    "                    break\n",
    "                elif i==j+1:\n",
    "                       yield i\n",
    "                        \n",
    "                        \n",
    "                        \n",
    "                        \n",
    "prime=prime_number()                       \n",
    "prime.__next__()\n",
    "prime.__next__()\n",
    "prime.__next__()\n",
    "prime.__next__()\n",
    "prime.__next__()\n",
    "prime.__next__()\n",
    "prime.__next__()                  "
   ]
  },
  {
   "cell_type": "code",
   "execution_count": 38,
   "metadata": {},
   "outputs": [
    {
     "name": "stdout",
     "output_type": "stream",
     "text": [
      "3\n",
      "5\n",
      "7\n",
      "11\n",
      "13\n",
      "17\n",
      "19\n"
     ]
    }
   ],
   "source": [
    "for i in prime_number():\n",
    "    print(i)"
   ]
  },
  {
   "cell_type": "code",
   "execution_count": 43,
   "metadata": {},
   "outputs": [
    {
     "name": "stdout",
     "output_type": "stream",
     "text": [
      "3\n"
     ]
    }
   ],
   "source": [
    "check = False\n",
    "for i in range(5):\n",
    "    for j in range(2,i):\n",
    "        if i%j==0:\n",
    "            check=True\n",
    "            break\n",
    "        if not check:\n",
    "            print(i)"
   ]
  },
  {
   "cell_type": "code",
   "execution_count": 53,
   "metadata": {},
   "outputs": [
    {
     "name": "stdout",
     "output_type": "stream",
     "text": [
      "1 2 3 5 8 13 21 34 55 89 144 233 377 610 987 1597 2584 4181 6765 10946 "
     ]
    }
   ],
   "source": [
    "s=0\n",
    "e=1\n",
    "temp=0\n",
    "for i in range(0,20):\n",
    "    temp=s+e\n",
    "    s=e\n",
    "    e=temp\n",
    "    print(temp,end=\" \")"
   ]
  },
  {
   "cell_type": "code",
   "execution_count": null,
   "metadata": {},
   "outputs": [],
   "source": []
  }
 ],
 "metadata": {
  "kernelspec": {
   "display_name": "Python 3",
   "language": "python",
   "name": "python3"
  },
  "language_info": {
   "codemirror_mode": {
    "name": "ipython",
    "version": 3
   },
   "file_extension": ".py",
   "mimetype": "text/x-python",
   "name": "python",
   "nbconvert_exporter": "python",
   "pygments_lexer": "ipython3",
   "version": "3.7.3"
  }
 },
 "nbformat": 4,
 "nbformat_minor": 2
}
