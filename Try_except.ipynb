{
 "cells": [
  {
   "cell_type": "code",
   "execution_count": 8,
   "metadata": {},
   "outputs": [
    {
     "name": "stdout",
     "output_type": "stream",
     "text": [
      "10\n"
     ]
    }
   ],
   "source": [
    "def ahmad(x):\n",
    "    try:\n",
    "      print(x)\n",
    "    except NameError:\n",
    "      print(\"Variable x is not defined\")\n",
    "    except:\n",
    "      print(\"Something else went wrong\")\n",
    "    \n",
    "x=10\n",
    "ahmad(x)"
   ]
  },
  {
   "cell_type": "code",
   "execution_count": 6,
   "metadata": {},
   "outputs": [
    {
     "name": "stdout",
     "output_type": "stream",
     "text": [
      "enter the value :111\n",
      "Sucess\n"
     ]
    }
   ],
   "source": [
    "def ahmad():\n",
    "    while True:  \n",
    "        try:\n",
    "         num = int(input(\"enter the value :\"))\n",
    "         \n",
    "        except ValueError:\n",
    "          print(\"Error: enter num\")\n",
    "        else:\n",
    "          print(\"Sucess\")\n",
    "          break\n",
    "\n",
    "ahmad()"
   ]
  },
  {
   "cell_type": "code",
   "execution_count": 10,
   "metadata": {},
   "outputs": [
    {
     "name": "stdout",
     "output_type": "stream",
     "text": [
      "Enter the number :11\n"
     ]
    },
    {
     "data": {
      "text/plain": [
       "{'data': 'Sucess', 'error': False, 'code': 200}"
      ]
     },
     "execution_count": 10,
     "metadata": {},
     "output_type": "execute_result"
    }
   ],
   "source": [
    "def nxb():\n",
    "    while True:\n",
    "        try:\n",
    "            num = int(input(\"Enter the number :\"))\n",
    "        except ValueError:\n",
    "            status = dict()\n",
    "            status['data'] = \"Enter Only Number\"\n",
    "            status['error'] = True\n",
    "            status['code'] = 200\n",
    "            return status\n",
    "        else:\n",
    "            status = dict()\n",
    "            status['data'] = \"Sucess\"\n",
    "            status['error'] = False\n",
    "            status['code'] = 200\n",
    "            return status\n",
    "        break\n",
    "        \n",
    "        \n",
    "nxb()\n",
    "            "
   ]
  },
  {
   "cell_type": "code",
   "execution_count": null,
   "metadata": {},
   "outputs": [],
   "source": [
    "def call_error():\n",
    "        status = dict()\n",
    "        status['data'] = \"only enter number \"\n",
    "        return status\n",
    "\n",
    "\n",
    "\n",
    "\n",
    "def nxb():\n",
    "    while True:\n",
    "        try:\n",
    "            num = int(input(\"enter the number :\"))\n",
    "            break\n",
    "        except ValueError:\n",
    "            call_error()\n",
    "         \n",
    "        \n",
    "nxb()"
   ]
  },
  {
   "cell_type": "code",
   "execution_count": null,
   "metadata": {},
   "outputs": [],
   "source": [
    "def call_error():\n",
    "        status = dict()\n",
    "        status['data'] = \"only enter number \"\n",
    "        return status\n",
    "\n",
    "\n",
    "\n",
    "\n",
    "def nxb():\n",
    "        try:\n",
    "            num = int(input(\"enter the number :\"))\n",
    "        except ValueError:\n",
    "            call_error()\n",
    "         \n",
    "        \n",
    "nxb()"
   ]
  }
 ],
 "metadata": {
  "kernelspec": {
   "display_name": "Python 3",
   "language": "python",
   "name": "python3"
  },
  "language_info": {
   "codemirror_mode": {
    "name": "ipython",
    "version": 3
   },
   "file_extension": ".py",
   "mimetype": "text/x-python",
   "name": "python",
   "nbconvert_exporter": "python",
   "pygments_lexer": "ipython3",
   "version": "3.7.3"
  }
 },
 "nbformat": 4,
 "nbformat_minor": 2
}
