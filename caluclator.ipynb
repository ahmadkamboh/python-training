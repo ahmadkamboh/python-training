{
 "cells": [
  {
   "cell_type": "code",
   "execution_count": 1,
   "metadata": {},
   "outputs": [
    {
     "name": "stdout",
     "output_type": "stream",
     "text": [
      "Enter First Number :1\n",
      "choice the option\n",
      "+ : ADD\n",
      "- : SUB\n",
      "* : MUL\n",
      "/ : DIVID\n",
      "% : MODE\n",
      "Enter the Option : +\n",
      "Enter Second Number :2\n",
      "3\n"
     ]
    }
   ],
   "source": [
    "def add(num1,num2):\n",
    "    total = num1+num2\n",
    "    print(total)\n",
    "def sub(num1,num2):\n",
    "    total = num1-num2\n",
    "    print(total)\n",
    "def mul(num1,num2):\n",
    "    total = num1*num2\n",
    "    print(total)\n",
    "def divid(num1,num2):\n",
    "    total = num1/num2\n",
    "    print(total)\n",
    "def mode(num1,num2):\n",
    "    total = num1%num2\n",
    "    print(total)\n",
    "\n",
    "\n",
    "\n",
    "\n",
    "num1 = int(input(\"Enter First Number :\"))\n",
    "print(\"choice the option\")\n",
    "print(\"+ : ADD\"\"\\n\"\"- : SUB\"\"\\n\"\"* : MUL\"\"\\n\"\"/ : DIVID\"\"\\n\"\"% : MODE\")\n",
    "choice = input(\"Enter the Option : \")\n",
    "num2 = int(input(\"Enter Second Number :\"))\n",
    "if choice ==\"+\":\n",
    "    add(num1,num2)\n",
    "if choice ==\"-\":\n",
    "    sub(num1,num2) \n",
    "if choice ==\"*\":\n",
    "    mul(num1,num2) \n",
    "if choice ==\"/\":\n",
    "    divid(num1,num2)  \n",
    "if choice ==\"%\":\n",
    "    mode(num1,num2)"
   ]
  },
  {
   "cell_type": "code",
   "execution_count": 7,
   "metadata": {},
   "outputs": [
    {
     "name": "stdout",
     "output_type": "stream",
     "text": [
      "Enter First Number :1\n",
      "choice the option\n",
      "+ : ADD\n",
      "- : SUB\n",
      "* : MUL\n",
      "/ : DIVID\n",
      "% : MODE\n",
      "Enter the Option : +\n",
      "Enter Second Number :1\n"
     ]
    },
    {
     "ename": "NameError",
     "evalue": "name 'total' is not defined",
     "output_type": "error",
     "traceback": [
      "\u001b[1;31m---------------------------------------------------------------------------\u001b[0m",
      "\u001b[1;31mNameError\u001b[0m                                 Traceback (most recent call last)",
      "\u001b[1;32m<ipython-input-7-1a7724d12a03>\u001b[0m in \u001b[0;36m<module>\u001b[1;34m\u001b[0m\n\u001b[0;32m     37\u001b[0m \u001b[0mnum2\u001b[0m \u001b[1;33m=\u001b[0m \u001b[0mint\u001b[0m\u001b[1;33m(\u001b[0m\u001b[0minput\u001b[0m\u001b[1;33m(\u001b[0m\u001b[1;34m\"Enter Second Number :\"\u001b[0m\u001b[1;33m)\u001b[0m\u001b[1;33m)\u001b[0m\u001b[1;33m\u001b[0m\u001b[1;33m\u001b[0m\u001b[0m\n\u001b[0;32m     38\u001b[0m \u001b[0moption\u001b[0m\u001b[1;33m(\u001b[0m\u001b[1;33m)\u001b[0m\u001b[1;33m\u001b[0m\u001b[1;33m\u001b[0m\u001b[0m\n\u001b[1;32m---> 39\u001b[1;33m \u001b[0mnum1\u001b[0m \u001b[1;33m=\u001b[0m \u001b[0mtotal\u001b[0m\u001b[1;33m\u001b[0m\u001b[1;33m\u001b[0m\u001b[0m\n\u001b[0m\u001b[0;32m     40\u001b[0m \u001b[0mprint\u001b[0m\u001b[1;33m(\u001b[0m\u001b[1;34m\"choice the option\"\u001b[0m\u001b[1;33m)\u001b[0m\u001b[1;33m\u001b[0m\u001b[1;33m\u001b[0m\u001b[0m\n\u001b[0;32m     41\u001b[0m \u001b[0mprint\u001b[0m\u001b[1;33m(\u001b[0m\u001b[1;34m\"+ : ADD\"\u001b[0m\u001b[1;34m\"\\n\"\u001b[0m\u001b[1;34m\"- : SUB\"\u001b[0m\u001b[1;34m\"\\n\"\u001b[0m\u001b[1;34m\"* : MUL\"\u001b[0m\u001b[1;34m\"\\n\"\u001b[0m\u001b[1;34m\"/ : DIVID\"\u001b[0m\u001b[1;34m\"\\n\"\u001b[0m\u001b[1;34m\"% : MODE\"\u001b[0m\u001b[1;33m)\u001b[0m\u001b[1;33m\u001b[0m\u001b[1;33m\u001b[0m\u001b[0m\n",
      "\u001b[1;31mNameError\u001b[0m: name 'total' is not defined"
     ]
    }
   ],
   "source": [
    "def option():\n",
    "    if choice ==\"+\":\n",
    "        add(num1,num2)\n",
    "    if choice ==\"-\":\n",
    "        sub(num1,num2) \n",
    "    if choice ==\"*\":\n",
    "        mul(num1,num2) \n",
    "    if choice ==\"/\":\n",
    "        divid(num1,num2)  \n",
    "    if choice ==\"%\":\n",
    "        mode(num1,num2)\n",
    "    \n",
    "  \n",
    "\n",
    "def add(num1,num2):\n",
    "    total = num1+num2\n",
    "    return print(total)\n",
    "    \n",
    "def sub(num1,num2):\n",
    "    total = num1-num2\n",
    "    print(total)\n",
    "def mul(num1,num2):\n",
    "    total = num1*num2\n",
    "    print(total)\n",
    "def divid(num1,num2):\n",
    "    total = num1/num2\n",
    "    print(total)\n",
    "def mode(num1,num2):\n",
    "    total = num1%num2\n",
    "    print(total)\n",
    "\n",
    "global total\n",
    "num1 = int(input(\"Enter First Number :\"))\n",
    "print(\"choice the option\")\n",
    "print(\"+ : ADD\"\"\\n\"\"- : SUB\"\"\\n\"\"* : MUL\"\"\\n\"\"/ : DIVID\"\"\\n\"\"% : MODE\")\n",
    "choice = input(\"Enter the Option : \")\n",
    "num2 = int(input(\"Enter Second Number :\"))\n",
    "option()\n",
    "num1 = total\n",
    "print(\"choice the option\")\n",
    "print(\"+ : ADD\"\"\\n\"\"- : SUB\"\"\\n\"\"* : MUL\"\"\\n\"\"/ : DIVID\"\"\\n\"\"% : MODE\")\n",
    "choice = input(\"Enter the Option : \")\n",
    "num2 = int(input(\"Enter Second Number :\"))\n",
    "option()\n",
    "    \n",
    "\n",
    "\n",
    "    \n",
    "   "
   ]
  }
 ],
 "metadata": {
  "kernelspec": {
   "display_name": "Python 3",
   "language": "python",
   "name": "python3"
  },
  "language_info": {
   "codemirror_mode": {
    "name": "ipython",
    "version": 3
   },
   "file_extension": ".py",
   "mimetype": "text/x-python",
   "name": "python",
   "nbconvert_exporter": "python",
   "pygments_lexer": "ipython3",
   "version": "3.7.3"
  }
 },
 "nbformat": 4,
 "nbformat_minor": 2
}
