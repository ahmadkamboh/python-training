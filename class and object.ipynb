{
 "cells": [
  {
   "cell_type": "code",
   "execution_count": 3,
   "metadata": {},
   "outputs": [
    {
     "name": "stdout",
     "output_type": "stream",
     "text": [
      "red\n"
     ]
    }
   ],
   "source": [
    "class car:\n",
    "    color = \"red\"\n",
    "    \n",
    "    \n",
    "    \n",
    "    \n",
    "p1 = car()\n",
    "print(p1.color)"
   ]
  },
  {
   "cell_type": "code",
   "execution_count": 7,
   "metadata": {},
   "outputs": [
    {
     "name": "stdout",
     "output_type": "stream",
     "text": [
      "ahmad\n",
      "23\n"
     ]
    }
   ],
   "source": [
    "class person:\n",
    "    def __init__(self,name,age):\n",
    "        self.name=name\n",
    "        self.age=age\n",
    "        \n",
    "        \n",
    "        \n",
    "p1 = person(\"ahmad\",23)\n",
    "print(p1.name)\n",
    "print(p1.age)"
   ]
  },
  {
   "cell_type": "code",
   "execution_count": 1,
   "metadata": {},
   "outputs": [
    {
     "name": "stdout",
     "output_type": "stream",
     "text": [
      "my name is ahmad\n",
      "my age is 23\n"
     ]
    }
   ],
   "source": [
    "class person:\n",
    "    def __init__(self,name,age):\n",
    "        self.name=name\n",
    "        self.age=age\n",
    "      \n",
    "    def myfun(self):\n",
    "        print(\"my name is \"+self.name)\n",
    "        print(\"my age is \"+self.age)\n",
    "        \n",
    "p1 = person(\"ahmad\",\"23\")\n",
    "p1.myfun()"
   ]
  },
  {
   "cell_type": "code",
   "execution_count": 8,
   "metadata": {},
   "outputs": [
    {
     "name": "stdout",
     "output_type": "stream",
     "text": [
      "10\n"
     ]
    }
   ],
   "source": [
    "class Room:\n",
    "    system = \"10\"\n",
    "    color = \"sliver\"\n",
    "    lcd = \"10\"\n",
    "    color = \"black\"\n",
    "    chair = \"10\"\n",
    "    color = \"black\"\n",
    "    table = \"6\"\n",
    "    color = \"white\"\n",
    "    white_board = \"1\"\n",
    "    \n",
    "    \n",
    "    \n",
    "    \n",
    "p1 = Room()  \n",
    "print(p1.system)"
   ]
  },
  {
   "cell_type": "code",
   "execution_count": 23,
   "metadata": {},
   "outputs": [
    {
     "name": "stdout",
     "output_type": "stream",
     "text": [
      "system information\n",
      "No.of system is : 10\n",
      "System Color is : sliver\n",
      "No.of LCD is : 10\n",
      "None\n",
      "No.of Chair is : 10\n",
      "Chair color is : black\n",
      "No.of table is : 6\n",
      "Table color  is : white\n",
      "None\n"
     ]
    }
   ],
   "source": [
    "class room:\n",
    "    def __init__(self):\n",
    "        self.system = \"10\"\n",
    "        self.sys_color = \"sliver\"\n",
    "        self.lcd = \"10\"\n",
    "        self.chair = \"10\"\n",
    "        self.chair_color = \"black\"\n",
    "        self.table = \"6\"\n",
    "        self.table_color = \"white\"\n",
    "        white_board = \"1\"\n",
    "    \n",
    "    def system_info(self):\n",
    "        print(\"system information\")\n",
    "        print(\"No.of system is :\",self.system)\n",
    "        print(\"System Color is :\",self.sys_color)\n",
    "        print(\"No.of LCD is :\",self.lcd)\n",
    "    \n",
    "    def inventory(self):\n",
    "        print(\"No.of Chair is :\",self.chair)\n",
    "        print(\"Chair color is :\",self.chair_color)\n",
    "        print(\"No.of table is :\",self.table)\n",
    "        print(\"Table color  is :\",self.table_color)\n",
    "        \n",
    "        \n",
    "        \n",
    "p1 = room()\n",
    "print(p1.system_info())\n",
    "print(p1.inventory())"
   ]
  }
 ],
 "metadata": {
  "kernelspec": {
   "display_name": "Python 3",
   "language": "python",
   "name": "python3"
  },
  "language_info": {
   "codemirror_mode": {
    "name": "ipython",
    "version": 3
   },
   "file_extension": ".py",
   "mimetype": "text/x-python",
   "name": "python",
   "nbconvert_exporter": "python",
   "pygments_lexer": "ipython3",
   "version": "3.7.3"
  }
 },
 "nbformat": 4,
 "nbformat_minor": 2
}
