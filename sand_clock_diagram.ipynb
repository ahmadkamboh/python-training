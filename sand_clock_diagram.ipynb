{
 "cells": [
  {
   "cell_type": "code",
   "execution_count": 7,
   "metadata": {},
   "outputs": [
    {
     "name": "stdout",
     "output_type": "stream",
     "text": [
      "*  *  *  *  *  *  *  *  *  *  \n",
      "\n",
      "  *                     *         \n",
      "\n",
      "    *                *          \n",
      "\n",
      "      *            *          \n",
      "\n",
      "        *        *            \n",
      "\n",
      "            *\n",
      "\n",
      "        *        *            \n",
      "\n",
      "      *            *          \n",
      "\n",
      "    *                *        \n",
      "\n",
      "  *                    *        \n",
      "\n",
      "*  *  *  *  *  *  *  *  *  *  "
     ]
    }
   ],
   "source": [
    "for i in range(10):\n",
    "    print(\"*\",end=\"  \")\n",
    "print(\"\\n\")    \n",
    "for j in range(11):\n",
    "    if(j==1 or j==9):\n",
    "        print(\"*       \",end=\"\")          #6 space\n",
    "    else:\n",
    "        print(\"  \",end=\"\")              #2 space\n",
    "print(\"\\n\")\n",
    "for k in range(11):\n",
    "    if(k==2 or k==8):\n",
    "        print(\"*      \",end=\"\")\n",
    "    else:\n",
    "        print(\"  \",end=\"\")\n",
    "print(\"\\n\")\n",
    "for l in range(10):\n",
    "    if(l==3 or l==7):\n",
    "        print(\"*      \",end=\"\")\n",
    "    else:\n",
    "        print(\"  \",end=\"\")\n",
    "print(\"\\n\")   \n",
    "for m in range(10):\n",
    "    if(m==4 or m==6):\n",
    "        print(\"*      \",end=\"\")\n",
    "    else:\n",
    "        print(\"  \",end=\"\")\n",
    "print(\"\\n\")\n",
    "for a in range(10):\n",
    "    if(a==5):\n",
    "        print(\"            *\",end=\"\")\n",
    "print(\"\\n\")        \n",
    "for n in range(10):\n",
    "    if(n==4 or n==6):\n",
    "        print(\"*      \",end=\"\")\n",
    "    else:\n",
    "        print(\"  \",end=\"\")\n",
    "print(\"\\n\")\n",
    "for k in range(10):\n",
    "    if(k==3 or k==7):\n",
    "        print(\"*      \",end=\"\")\n",
    "    else:\n",
    "        print(\"  \",end=\"\")\n",
    "print(\"\\n\")\n",
    "for k in range(10):\n",
    "    if(k==2 or k==8):\n",
    "        print(\"*      \",end=\"\")\n",
    "    else:\n",
    "        print(\"  \",end=\"\")\n",
    "print(\"\\n\")\n",
    "for k in range(11):\n",
    "    if(k==1 or k==9):\n",
    "        print(\"*      \",end=\"\")\n",
    "    else:\n",
    "        print(\"  \",end=\"\")\n",
    "print(\"\\n\")\n",
    "for i in range(10):\n",
    "    print(\"*\",end=\"  \")"
   ]
  },
  {
   "cell_type": "code",
   "execution_count": null,
   "metadata": {},
   "outputs": [],
   "source": []
  }
 ],
 "metadata": {
  "kernelspec": {
   "display_name": "Python 3",
   "language": "python",
   "name": "python3"
  },
  "language_info": {
   "codemirror_mode": {
    "name": "ipython",
    "version": 3
   },
   "file_extension": ".py",
   "mimetype": "text/x-python",
   "name": "python",
   "nbconvert_exporter": "python",
   "pygments_lexer": "ipython3",
   "version": "3.7.3"
  }
 },
 "nbformat": 4,
 "nbformat_minor": 2
}
